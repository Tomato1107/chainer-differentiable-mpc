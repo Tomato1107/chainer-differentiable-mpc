{
 "cells": [
  {
   "cell_type": "code",
   "execution_count": 1,
   "metadata": {
    "scrolled": true
   },
   "outputs": [
    {
     "name": "stdout",
     "output_type": "stream",
     "text": [
      "['/Users/i19_arahata/Program/chainer-mpc/examples', '/Users/i19_arahata/.local/share/virtualenvs/chainer-mpc-dl9ARfgC/lib/python37.zip', '/Users/i19_arahata/.local/share/virtualenvs/chainer-mpc-dl9ARfgC/lib/python3.7', '/Users/i19_arahata/.local/share/virtualenvs/chainer-mpc-dl9ARfgC/lib/python3.7/lib-dynload', '/Users/i19_arahata/.pyenv/versions/3.7.2/lib/python3.7', '', '/Users/i19_arahata/.local/share/virtualenvs/chainer-mpc-dl9ARfgC/lib/python3.7/site-packages', '/Users/i19_arahata/.local/share/virtualenvs/chainer-mpc-dl9ARfgC/lib/python3.7/site-packages/IPython/extensions', '/Users/i19_arahata/.ipython']\n"
     ]
    },
    {
     "name": "stderr",
     "output_type": "stream",
     "text": [
      "/Users/i19_arahata/.local/share/virtualenvs/chainer-mpc-dl9ARfgC/lib/python3.7/site-packages/chainer/_environment_check.py:41: UserWarning: Accelerate has been detected as a NumPy backend library.\n",
      "vecLib, which is a part of Accelerate, is known not to work correctly with Chainer.\n",
      "We recommend using other BLAS libraries such as OpenBLAS.\n",
      "For details of the issue, please see\n",
      "https://docs.chainer.org/en/stable/tips.html#mnist-example-does-not-converge-in-cpu-mode-on-mac-os-x.\n",
      "\n",
      "Please be aware that Mac OS X is not an officially supported OS.\n",
      "\n",
      "  ''')  # NOQA\n"
     ]
    }
   ],
   "source": [
    "import sys\n",
    "print(sys.path)\n",
    "sys.path.append(\"../lqr\")\n",
    "from lqr_recursion import LqrRecursion\n",
    "import chainer\n",
    "import numpy as np\n",
    "import matplotlib.pyplot as plt"
   ]
  },
  {
   "cell_type": "code",
   "execution_count": 2,
   "metadata": {},
   "outputs": [],
   "source": [
    "T = 20\n",
    "f = None\n",
    "n_state =2\n",
    "n_ctrl =1\n",
    "n_sc = n_ctrl +n_state\n",
    "F =chainer.Variable(np.array([(np.array([[1.0,1.0, 0],[0,1.0,1.0]])) for i in range(T)])).reshape(T,1,n_state,n_sc,)\n",
    "c = chainer.Variable(np.array([(np.array([0,0,0.0]).T) for i in range(T)])).reshape(T,1,n_sc,)\n",
    "C = chainer.Variable(np.array([np.array([[1.0,0 ,0],[0,0,0],[0,0,10]]) for i in range(T)])).reshape(T,1,n_sc, n_sc)\n",
    "x_init = chainer.Variable(np.array([1.0, 0])).reshape(1,n_state)"
   ]
  },
  {
   "cell_type": "code",
   "execution_count": 3,
   "metadata": {},
   "outputs": [],
   "source": [
    "test = LqrRecursion(x_init,C,c,F,f,T,n_state,n_ctrl)"
   ]
  },
  {
   "cell_type": "code",
   "execution_count": 4,
   "metadata": {},
   "outputs": [],
   "source": [
    "Ks, ks = test.backward()"
   ]
  },
  {
   "cell_type": "code",
   "execution_count": 5,
   "metadata": {},
   "outputs": [
    {
     "data": {
      "text/plain": [
       "20"
      ]
     },
     "execution_count": 5,
     "metadata": {},
     "output_type": "execute_result"
    }
   ],
   "source": [
    "len(Ks)"
   ]
  },
  {
   "cell_type": "code",
   "execution_count": 6,
   "metadata": {},
   "outputs": [
    {
     "data": {
      "text/plain": [
       "(0, 20)"
      ]
     },
     "execution_count": 6,
     "metadata": {},
     "output_type": "execute_result"
    },
    {
     "data": {
      "image/png": "[encoded data removed]",
      "text/plain": [
       "<Figure size 432x288 with 1 Axes>"
      ]
     },
     "metadata": {
      "needs_background": "light"
     },
     "output_type": "display_data"
    }
   ],
   "source": [
    "k1 =[]\n",
    "k2 = []\n",
    "fig, ax = plt.subplots()\n",
    "for i in range(T):\n",
    "    k1.append(Ks[i][0][0][0].data)\n",
    "    k2.append(Ks[i][0][0][1].data)\n",
    "major_ticks = np.arange(0, 20, 2)\n",
    "ax.grid(which = \"major\", axis = \"x\", color = \"blue\", alpha = 0.8,\n",
    "        linestyle = \"--\", linewidth = 1)\n",
    "ax.grid(which = \"major\", axis = \"y\", color = \"green\", alpha = 0.8,\n",
    "        linestyle = \"--\", linewidth = 1)\n",
    "ax.set_xticks(major_ticks)            \n",
    "ax.set_ylim(-0.5, 1.2)\n",
    "ax.plot(k1)\n",
    "ax.plot(k2)\n",
    "ax.set_ylim(-2, 1)\n",
    "ax.set_xlim(0,20)"
   ]
  },
  {
   "cell_type": "code",
   "execution_count": 7,
   "metadata": {},
   "outputs": [],
   "source": [
    "x,u = test.solve_recursion()"
   ]
  },
  {
   "cell_type": "code",
   "execution_count": 8,
   "metadata": {},
   "outputs": [
    {
     "data": {
      "text/plain": [
       "(20, 1, 1)"
      ]
     },
     "execution_count": 8,
     "metadata": {},
     "output_type": "execute_result"
    }
   ],
   "source": [
    "u.shape"
   ]
  },
  {
   "cell_type": "code",
   "execution_count": 9,
   "metadata": {},
   "outputs": [
    {
     "data": {
      "text/plain": [
       "[<matplotlib.lines.Line2D at 0x1116bb320>]"
      ]
     },
     "execution_count": 9,
     "metadata": {},
     "output_type": "execute_result"
    },
    {
     "data": {
      "image/png": "[encoded data removed]",
      "text/plain": [
       "<Figure size 432x288 with 1 Axes>"
      ]
     },
     "metadata": {
      "needs_background": "light"
     },
     "output_type": "display_data"
    }
   ],
   "source": [
    "us = []\n",
    "for i in range(T):\n",
    "    us.append(u[i][0][0].data)\n",
    "        \n",
    "fig, ax = plt.subplots()\n",
    "ax.grid(which = \"major\", axis = \"x\", color = \"blue\", alpha = 0.8,\n",
    "        linestyle = \"--\", linewidth = 1)\n",
    "major_ticks = np.arange(0, 20, 2)                                              \n",
    "ax.set_xticks(major_ticks)        \n",
    "ax.set_ylim(-0.5, 0.5)\n",
    "ax.set_xlim(0, 20)\n",
    "ax.plot(us, marker='.')"
   ]
  },
  {
   "cell_type": "code",
   "execution_count": 10,
   "metadata": {},
   "outputs": [
    {
     "data": {
      "text/plain": [
       "[variable([[[-0.21140641, -0.7644787 ]]]),\n",
       " variable([[[-0.21140586, -0.7644768 ]]]),\n",
       " variable([[[-0.21140426, -0.76447274]]]),\n",
       " variable([[[-0.21140118, -0.76446661]]]),\n",
       " variable([[[-0.21139777, -0.76446147]]]),\n",
       " variable([[[-0.21139863, -0.76446226]]]),\n",
       " variable([[[-0.21141   , -0.76446005]]]),\n",
       " variable([[[-0.21142288, -0.76438096]]]),\n",
       " variable([[[-0.21136458, -0.76398918]]]),\n",
       " variable([[[-0.21102155, -0.76280464]]]),\n",
       " variable([[[-0.21001979, -0.76026033]]]),\n",
       " variable([[[-0.20810685, -0.75645049]]]),\n",
       " variable([[[-0.2060222 , -0.75330898]]]),\n",
       " variable([[[-0.20658451, -0.75382064]]]),\n",
       " variable([[[-0.21351635, -0.7523825 ]]]),\n",
       " variable([[[-0.2214034, -0.7055431]]]),\n",
       " variable([[[-0.19254658, -0.50931677]]]),\n",
       " variable([[[-0.09090909, -0.18181818]]]),\n",
       " variable([[[-0., -0.]]]),\n",
       " variable([[[-0., -0.]]])]"
      ]
     },
     "execution_count": 10,
     "metadata": {},
     "output_type": "execute_result"
    }
   ],
   "source": [
    "Ks"
   ]
  },
  {
   "cell_type": "code",
   "execution_count": 11,
   "metadata": {},
   "outputs": [
    {
     "data": {
      "text/plain": [
       "20"
      ]
     },
     "execution_count": 11,
     "metadata": {},
     "output_type": "execute_result"
    }
   ],
   "source": [
    "len(Ks)"
   ]
  },
  {
   "cell_type": "code",
   "execution_count": 12,
   "metadata": {},
   "outputs": [
    {
     "data": {
      "image/png": "[encoded data removed]",
      "text/plain": [
       "<Figure size 432x288 with 1 Axes>"
      ]
     },
     "metadata": {
      "needs_background": "light"
     },
     "output_type": "display_data"
    }
   ],
   "source": [
    "us = []\n",
    "for i in range(T):\n",
    "    us.append(x[i][0][0].data)\n",
    "    \n",
    "fig, ax = plt.subplots()\n",
    "ax.grid(which = \"major\", axis = \"x\", color = \"blue\", alpha = 0.8,\n",
    "        linestyle = \"--\", linewidth = 1)\n",
    "\n",
    "# y軸に目盛線を設定\n",
    "ax.grid(which = \"major\", axis = \"y\", color = \"green\", alpha = 0.8,\n",
    "        linestyle = \"--\", linewidth = 1)\n",
    "\n",
    "major_ticks = np.arange(0, 20, 2)                                              \n",
    "ax.set_xticks(major_ticks)                                                       \n",
    "ax.set_ylim(-0.5, 1.2)\n",
    "ax.set_xlim(0, 20)\n",
    "ax.plot(us, marker='.')\n",
    "plt.show()"
   ]
  },
  {
   "cell_type": "code",
   "execution_count": 13,
   "metadata": {},
   "outputs": [
    {
     "data": {
      "text/plain": [
       "(20, 1, 2)"
      ]
     },
     "execution_count": 13,
     "metadata": {},
     "output_type": "execute_result"
    }
   ],
   "source": [
    "x.shape"
   ]
  },
  {
   "cell_type": "code",
   "execution_count": 14,
   "metadata": {},
   "outputs": [
    {
     "data": {
      "text/plain": [
       "variable([[[ 1.00000000e+00,  0.00000000e+00]],\n",
       "\n",
       "          [[ 1.00000000e+00, -2.11406412e-01]],\n",
       "\n",
       "          [[ 7.88593588e-01, -2.61196976e-01]],\n",
       "\n",
       "          [[ 5.27396613e-01, -2.28231051e-01]],\n",
       "\n",
       "          [[ 2.99165562e-01, -1.65248298e-01]],\n",
       "\n",
       "          [[ 1.33917264e-01, -1.02165273e-01]],\n",
       "\n",
       "          [[ 3.17519905e-02, -5.23737039e-02]],\n",
       "\n",
       "          [[-2.06217134e-02, -1.90487883e-02]],\n",
       "\n",
       "          [[-3.96705017e-02, -1.28355152e-04]],\n",
       "\n",
       "          [[-3.97988569e-02,  8.35464560e-03]],\n",
       "\n",
       "          [[-3.14442113e-02,  1.03800997e-02]],\n",
       "\n",
       "          [[-2.10641116e-02,  9.09242820e-03]],\n",
       "\n",
       "          [[-1.19716834e-02,  6.59804232e-03]],\n",
       "\n",
       "          [[-5.37364105e-03,  4.09411039e-03]],\n",
       "\n",
       "          [[-1.27953067e-03,  2.11799649e-03]],\n",
       "\n",
       "          [[ 8.38465824e-04,  7.97653713e-04]],\n",
       "\n",
       "          [[ 1.63611954e-03,  4.92354622e-05]],\n",
       "\n",
       "          [[ 1.68535500e-03, -2.90870212e-04]],\n",
       "\n",
       "          [[ 1.39448479e-03, -3.91198810e-04]],\n",
       "\n",
       "          [[ 1.00328598e-03, -3.91198810e-04]]])"
      ]
     },
     "execution_count": 14,
     "metadata": {},
     "output_type": "execute_result"
    }
   ],
   "source": [
    "x"
   ]
  },
  {
   "cell_type": "code",
   "execution_count": 16,
   "metadata": {},
   "outputs": [
    {
     "data": {
      "text/plain": [
       "(20, 1, 2)"
      ]
     },
     "execution_count": 16,
     "metadata": {},
     "output_type": "execute_result"
    }
   ],
   "source": [
    "x.shape"
   ]
  },
  {
   "cell_type": "code",
   "execution_count": null,
   "metadata": {},
   "outputs": [],
   "source": []
  }
 ],
 "metadata": {
  "kernelspec": {
   "display_name": "Python 3",
   "language": "python",
   "name": "python3"
  },
  "language_info": {
   "codemirror_mode": {
    "name": "ipython",
    "version": 3
   },
   "file_extension": ".py",
   "mimetype": "text/x-python",
   "name": "python",
   "nbconvert_exporter": "python",
   "pygments_lexer": "ipython3",
   "version": "3.7.2"
  }
 },
 "nbformat": 4,
 "nbformat_minor": 2
}
